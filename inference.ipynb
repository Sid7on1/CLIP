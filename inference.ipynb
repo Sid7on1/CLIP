```python
import torch
from transformers import BertTokenizer
from torchvision import transforms
from clip_model import CLIPModel
from utils import load_image

model = CLIPModel()
model.eval()

# Load image
transform = transforms.Compose([
    transforms.Resize((224, 224)),
    transforms.ToTensor(),
    transforms.Normalize([0.5]*3, [0.5]*3)
])
image = load_image("images/cat.jpg", transform).unsqueeze(0)

# Load text
tokenizer = BertTokenizer.from_pretrained("bert-base-uncased")
text = "A sleepy cat"
tokens = tokenizer(text, return_tensors="pt", padding="max_length", truncation=True, max_length=77)

# Get similarity
with torch.no_grad():
    logits = model(image, tokens["input_ids"], tokens["attention_mask"])
    print("Similarity score:", logits.item())
